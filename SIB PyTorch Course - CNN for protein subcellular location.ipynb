{
 "cells": [
  {
   "cell_type": "code",
   "execution_count": 10,
   "id": "4e977fbe",
   "metadata": {},
   "outputs": [
    {
     "name": "stdout",
     "output_type": "stream",
     "text": [
      "Using cpu device\n"
     ]
    }
   ],
   "source": [
    "from collections import defaultdict , Counter\n",
    "from sklearn.metrics import balanced_accuracy_score, accuracy_score, confusion_matrix\n",
    "\n",
    "\n",
    "import numpy as np\n",
    "import matplotlib.pyplot as plt\n",
    "import seaborn as sns\n",
    "\n",
    "import torch\n",
    "from torch import nn\n",
    "import pytorch_model_summary as pms \n",
    "from torch.utils.data import Dataset, DataLoader\n",
    "from pytorchtools import EarlyStopping\n",
    "\n",
    "# Get cpu, gpu or mps device for training.\n",
    "device = (\n",
    "    \"cuda\"\n",
    "    if torch.cuda.is_available()\n",
    "    else \"mps\"\n",
    "    if torch.backends.mps.is_available()\n",
    "    else \"cpu\"\n",
    ")\n",
    "print(f\"Using {device} device\")\n"
   ]
  },
  {
   "cell_type": "code",
   "execution_count": 11,
   "id": "98a706c7",
   "metadata": {},
   "outputs": [
    {
     "name": "stdout",
     "output_type": "stream",
     "text": [
      "(2423, 400, 20)\n"
     ]
    }
   ],
   "source": [
    "# Load the encoded protein sequences, and labels \n",
    "\n",
    "train = np.load('data/subcellular_localization/reduced_train.npz')\n",
    "X_train = train['X_train']\n",
    "y_train = train['y_train']\n",
    "\n",
    "print(X_train.shape)"
   ]
  },
  {
   "cell_type": "code",
   "execution_count": 12,
   "id": "931e2e99",
   "metadata": {},
   "outputs": [
    {
     "name": "stdout",
     "output_type": "stream",
     "text": [
      "(635, 400, 20)\n"
     ]
    }
   ],
   "source": [
    "validation = np.load('data/subcellular_localization/reduced_val.npz')\n",
    "X_valid = validation['X_val']\n",
    "y_valid = validation['y_val']\n",
    "\n",
    "print(X_valid.shape)"
   ]
  },
  {
   "cell_type": "code",
   "execution_count": 13,
   "id": "6393fff9",
   "metadata": {},
   "outputs": [
    {
     "name": "stderr",
     "output_type": "stream",
     "text": [
      "O:\\anaconda3\\anaconda3\\envs\\pytorch_course\\lib\\site-packages\\seaborn\\_oldcore.py:1498: FutureWarning: is_categorical_dtype is deprecated and will be removed in a future version. Use isinstance(dtype, CategoricalDtype) instead\n",
      "  if pd.api.types.is_categorical_dtype(vector):\n",
      "O:\\anaconda3\\anaconda3\\envs\\pytorch_course\\lib\\site-packages\\seaborn\\_oldcore.py:1498: FutureWarning: is_categorical_dtype is deprecated and will be removed in a future version. Use isinstance(dtype, CategoricalDtype) instead\n",
      "  if pd.api.types.is_categorical_dtype(vector):\n",
      "O:\\anaconda3\\anaconda3\\envs\\pytorch_course\\lib\\site-packages\\seaborn\\_oldcore.py:1765: FutureWarning: unique with argument that is not not a Series, Index, ExtensionArray, or np.ndarray is deprecated and will raise in a future version.\n",
      "  order = pd.unique(vector)\n",
      "O:\\anaconda3\\anaconda3\\envs\\pytorch_course\\lib\\site-packages\\seaborn\\_oldcore.py:1498: FutureWarning: is_categorical_dtype is deprecated and will be removed in a future version. Use isinstance(dtype, CategoricalDtype) instead\n",
      "  if pd.api.types.is_categorical_dtype(vector):\n"
     ]
    },
    {
     "data": {
      "text/plain": [
       "<Axes: xlabel='count'>"
      ]
     },
     "execution_count": 13,
     "metadata": {},
     "output_type": "execute_result"
    },
    {
     "data": {
      "image/png": "[encoded data removed]",
      "text/plain": [
       "<Figure size 640x480 with 1 Axes>"
      ]
     },
     "metadata": {},
     "output_type": "display_data"
    }
   ],
   "source": [
    "classes = ['Nucleus',\n",
    "           'Cytoplasm',\n",
    "           'Extracellular',\n",
    "           'Mitochondrion',\n",
    "           'Cell membrane',\n",
    "           'ER',\n",
    "           'Chloroplast',\n",
    "           'Golgi apparatus',\n",
    "           'Lysosome',\n",
    "           'Vacuole']\n",
    "\n",
    "dico_classes_subcell={i:v for i,v in enumerate(classes)}\n",
    "\n",
    "sns.countplot(y = [ dico_classes_subcell[y] for y in  y_train ] + [ dico_classes_subcell[y] for y in  y_valid ] ,\n",
    "              hue = ['train']*len(y_train) + ['val']*len(y_valid),\n",
    "              order = classes )"
   ]
  },
  {
   "cell_type": "code",
   "execution_count": 14,
   "id": "6cb9f47e",
   "metadata": {},
   "outputs": [
    {
     "data": {
      "text/plain": [
       "(400, 20)"
      ]
     },
     "execution_count": 14,
     "metadata": {},
     "output_type": "execute_result"
    }
   ],
   "source": [
    "X_train[0,].shape"
   ]
  },
  {
   "cell_type": "code",
   "execution_count": 15,
   "id": "ec847ada",
   "metadata": {},
   "outputs": [
    {
     "data": {
      "text/plain": [
       "6"
      ]
     },
     "execution_count": 15,
     "metadata": {},
     "output_type": "execute_result"
    }
   ],
   "source": [
    "y_train[0,]"
   ]
  },
  {
   "cell_type": "code",
   "execution_count": 16,
   "id": "2c3dd3b8",
   "metadata": {},
   "outputs": [],
   "source": [
    "# Convert them to PyTorch tensors\n",
    "X_train_tensor = torch.tensor(X_train).float()\n",
    "y_train_tensor = torch.tensor(y_train).long()\n",
    "X_val_tensor = torch.tensor(X_valid).float()\n",
    "y_val_tensor = torch.tensor(y_valid).long()\n",
    "\n",
    "# Calculate class weights inversely proportional to their frequencies\n",
    "class_counts = np.bincount(y_train_tensor.numpy())\n",
    "class_weights = 1. / torch.tensor(class_counts, dtype=torch.float)\n",
    "\n",
    "# Create a weighted random sampler to handle imbalanced class distribution\n",
    "weights = class_weights[y_train_tensor]\n",
    "weighted_sampler = torch.utils.data.WeightedRandomSampler(weights, len(weights))"
   ]
  },
  {
   "cell_type": "code",
   "execution_count": 17,
   "id": "c1e80433",
   "metadata": {},
   "outputs": [],
   "source": [
    "class CustomDataset(Dataset):\n",
    "    def __init__(self, features, labels):\n",
    "        self.features = features.unsqueeze(1)  # Add a channel dimension\n",
    "        #self.labels = labels.unsqueeze(1)      # Reshape labels to (batch_size, 1)\n",
    "        self.labels = labels\n",
    "\n",
    "    def __len__(self):\n",
    "        return len(self.features)\n",
    "\n",
    "    def __getitem__(self, index):\n",
    "        return self.features[index], self.labels[index]\n",
    "\n",
    "# Assuming X_train_tensor and y_train_tensor are already defined\n",
    "train_dataset = CustomDataset(X_train_tensor, y_train_tensor)\n",
    "val_dataset = CustomDataset(X_val_tensor, y_val_tensor)\n",
    "\n",
    "# Create DataLoaders\n",
    "batch_size = 64\n",
    "train_loader = DataLoader(train_dataset, batch_size=batch_size, sampler=weighted_sampler) # Use the weighted random sampler\n",
    "#train_loader = DataLoader(train_dataset, batch_size=batch_size, shuffle=True)\n",
    "val_loader = DataLoader(val_dataset, batch_size=batch_size, shuffle=True)"
   ]
  },
  {
   "cell_type": "code",
   "execution_count": 36,
   "id": "cfd4a7d7",
   "metadata": {},
   "outputs": [
    {
     "data": {
      "text/plain": [
       "CNN(\n",
       "  (conv_layers): Sequential(\n",
       "    (0): Conv2d(1, 4, kernel_size=(5, 3), stride=(1, 1), padding=(2, 1))\n",
       "    (1): ReLU()\n",
       "    (2): MaxPool2d(kernel_size=(2, 2), stride=(2, 2), padding=0, dilation=1, ceil_mode=False)\n",
       "    (3): Dropout(p=0.2, inplace=False)\n",
       "    (4): Conv2d(4, 8, kernel_size=(3, 3), stride=(1, 1), padding=(1, 1))\n",
       "    (5): ReLU()\n",
       "    (6): MaxPool2d(kernel_size=(2, 2), stride=(2, 2), padding=0, dilation=1, ceil_mode=False)\n",
       "    (7): Dropout(p=0.25, inplace=False)\n",
       "    (8): Conv2d(8, 16, kernel_size=(3, 3), stride=(1, 1), padding=(1, 1))\n",
       "    (9): ReLU()\n",
       "    (10): Dropout(p=0.3, inplace=False)\n",
       "  )\n",
       "  (flatten): Flatten(start_dim=1, end_dim=-1)\n",
       "  (fc_layers): Sequential(\n",
       "    (0): Linear(in_features=8000, out_features=128, bias=True)\n",
       "    (1): ReLU()\n",
       "    (2): Linear(in_features=128, out_features=64, bias=True)\n",
       "    (3): ReLU()\n",
       "    (4): Linear(in_features=64, out_features=32, bias=True)\n",
       "    (5): ReLU()\n",
       "    (6): Linear(in_features=32, out_features=10, bias=True)\n",
       "  )\n",
       ")"
      ]
     },
     "execution_count": 36,
     "metadata": {},
     "output_type": "execute_result"
    }
   ],
   "source": [
    "class CNN(nn.Module):\n",
    "    def __init__(self, input_height=400, input_width=20, in_channels=1):\n",
    "        super(CNN, self).__init__()\n",
    "        \n",
    "        # In case of our problem, both N-terminal and C-terminal reisdues are so important, as well as all aminoacids => we use same padding for both width and height\n",
    "        self.conv_layers = nn.Sequential(\n",
    "            # Convolutional layer with 'same' padding\n",
    "            nn.Conv2d(in_channels=1, out_channels=4, kernel_size=(5, 3), stride=1, padding=(2, 1)), # Output: (400, 20)\n",
    "            nn.ReLU(),\n",
    "            nn.MaxPool2d(kernel_size=(2, 2), stride=(2, 2)), # Output: (200, 10)\n",
    "            nn.Dropout(0.20),\n",
    "\n",
    "            nn.Conv2d(in_channels=4, out_channels=8, kernel_size=(3, 3), stride=1, padding=(1, 1)), # Output: (200, 10)\n",
    "            nn.ReLU(),\n",
    "            nn.MaxPool2d(kernel_size=(2, 2), stride=(2, 2)), # Output: (100, 5)\n",
    "            nn.Dropout(0.25),\n",
    "\n",
    "            nn.Conv2d(in_channels=8, out_channels=16, kernel_size=(3, 3), stride=1, padding=(1, 1)), # Output: (100, 5)\n",
    "            nn.ReLU(),\n",
    "            nn.Dropout(0.30)\n",
    "            # No additional pooling to retain dimensionality\n",
    "        )\n",
    "        \n",
    "        self.flatten = nn.Flatten()\n",
    "        self.fc_layers = nn.Sequential(\n",
    "            nn.Linear(16 * 100 * 5, 128),\n",
    "            nn.ReLU(),\n",
    "            nn.Linear(128, 64),\n",
    "            nn.ReLU(),\n",
    "            nn.Linear(64, 32),\n",
    "            nn.ReLU(),\n",
    "            nn.Linear(32, 10),\n",
    "        )\n",
    "\n",
    "    def forward(self, x):\n",
    "        x = self.conv_layers(x)\n",
    "        x = self.flatten(x)\n",
    "        x = self.fc_layers(x)\n",
    "        return x\n",
    "model = CNN(input_height=400, input_width=20, in_channels=1).to(device)\n",
    "model"
   ]
  },
  {
   "cell_type": "code",
   "execution_count": 19,
   "id": "32130413",
   "metadata": {},
   "outputs": [
    {
     "name": "stdout",
     "output_type": "stream",
     "text": [
      "-----------------------------------------------------------------------\n",
      "      Layer (type)         Input Shape         Param #     Tr. Param #\n",
      "=======================================================================\n",
      "          Conv2d-1     [1, 1, 400, 20]              64              64\n",
      "            ReLU-2     [1, 4, 400, 20]               0               0\n",
      "       MaxPool2d-3     [1, 4, 400, 20]               0               0\n",
      "          Conv2d-4     [1, 4, 200, 10]             296             296\n",
      "            ReLU-5     [1, 8, 200, 10]               0               0\n",
      "       MaxPool2d-6     [1, 8, 200, 10]               0               0\n",
      "          Conv2d-7      [1, 8, 100, 5]           1,168           1,168\n",
      "            ReLU-8     [1, 16, 100, 5]               0               0\n",
      "         Flatten-9     [1, 16, 100, 5]               0               0\n",
      "         Linear-10           [1, 8000]       1,024,128       1,024,128\n",
      "           ReLU-11            [1, 128]               0               0\n",
      "         Linear-12            [1, 128]           8,256           8,256\n",
      "           ReLU-13             [1, 64]               0               0\n",
      "         Linear-14             [1, 64]           2,080           2,080\n",
      "           ReLU-15             [1, 32]               0               0\n",
      "         Linear-16             [1, 32]             330             330\n",
      "=======================================================================\n",
      "Total params: 1,036,322\n",
      "Trainable params: 1,036,322\n",
      "Non-trainable params: 0\n",
      "-----------------------------------------------------------------------\n"
     ]
    }
   ],
   "source": [
    "x,y = train_dataset[0]\n",
    "print(pms.summary(model, x.reshape(1,1,400,20) , show_input=True))"
   ]
  },
  {
   "cell_type": "code",
   "execution_count": 37,
   "id": "9856c2dd",
   "metadata": {},
   "outputs": [],
   "source": [
    "def train(dataloader, model, loss_fn, optimizer ,  echo = True , echo_batch = False):\n",
    "    \n",
    "    size = len(dataloader.dataset) # how many batches do we have\n",
    "    model.train() #     Sets the module in training mode.\n",
    "    \n",
    "    for batch, (X,y) in enumerate(dataloader): # for each batch\n",
    "        X = X.to(device) # send the data to the GPU or whatever device you use for training\n",
    "        y = y.to(device) # send the data to the GPU or whatever device you use for training\n",
    "\n",
    "        # Compute prediction error\n",
    "        pred = model(X)              # prediction for the model -> forward pass\n",
    "        loss = loss_fn(pred, y)      # loss function from these prediction        \n",
    "        \n",
    "        # Backpropagation\n",
    "        loss.backward()              # backward propagation \n",
    "        #                            https://ml-cheatsheet.readthedocs.io/en/latest/backpropagation.html\n",
    "        #                            https://pytorch.org/tutorials/beginner/basics/autogradqs_tutorial.html\n",
    "        \n",
    "        optimizer.step()             \n",
    "        optimizer.zero_grad()        # reset the gradients\n",
    "                                     # https://stackoverflow.com/questions/48001598/why-do-we-need-to-call-zero-grad-in-pytorch\n",
    "\n",
    "        if echo_batch:\n",
    "            current =  (batch) * dataloader.batch_size +  len(X)\n",
    "            print(f\"Train loss: {loss.item():>7f}  [{current:>5d}/{size:>5d}]\")\n",
    "    \n",
    "    if echo:\n",
    "        print(f\"Train loss: {loss.item():>7f}\")\n",
    "\n",
    "    # return the last batch loss\n",
    "    return loss.item()\n",
    "def valid(dataloader, model, loss_fn, echo = True):\n",
    "    size = len(dataloader.dataset)\n",
    "    num_batches = len(dataloader)\n",
    "    model.eval() #     Sets the module in evaluation mode\n",
    "    valid_loss = 0\n",
    "    with torch.no_grad(): ## disables tracking of gradient: prevent accidental training + speeds up computation\n",
    "        for X,y in dataloader:\n",
    "            X = X.to(device)\n",
    "            y = y.to(device)\n",
    "            pred = model(X)\n",
    "            valid_loss += loss_fn(pred, y).item()  ## accumulating the loss function over the batches\n",
    "            \n",
    "    valid_loss /= num_batches\n",
    "\n",
    "    if echo:\n",
    "        print(f\"Valid Error: {valid_loss:>8f}\")\n",
    "    ## return the average loss / batch\n",
    "    return valid_loss\n"
   ]
  },
  {
   "cell_type": "code",
   "execution_count": 38,
   "id": "31458593",
   "metadata": {},
   "outputs": [
    {
     "name": "stdout",
     "output_type": "stream",
     "text": [
      "0 \n",
      "feature shape: torch.Size([64, 1, 400, 20]) \n",
      "label shape: torch.Size([64])\n",
      "Prediction shape: torch.Size([64, 10])\n",
      "avg loss: tensor(2.3132)\n"
     ]
    }
   ],
   "source": [
    "loss = nn.CrossEntropyLoss(weight=class_weights.to(device))\n",
    "\n",
    "#Try if it works...\n",
    "for batch, (X,y) in enumerate(train_loader): # for each batch\n",
    "    print(batch ,\"\\nfeature shape:\", X.shape,\"\\nlabel shape:\", y.shape)\n",
    "    break\n",
    "    \n",
    "with torch.no_grad():\n",
    "    pred = model(X)\n",
    "    print(\"Prediction shape:\", pred.shape)\n",
    "    print( 'avg loss:', loss( pred , y ))"
   ]
  },
  {
   "cell_type": "code",
   "execution_count": 57,
   "id": "2ee5acbc",
   "metadata": {},
   "outputs": [],
   "source": [
    "def get_model_balanced_accuracy(model, dataloader):\n",
    "    Ys = np.array([] , dtype = 'int64')\n",
    "    Ps = np.array([], dtype = 'int64')\n",
    "\n",
    "    with torch.no_grad():\n",
    "        for X, y in dataloader:\n",
    "            X = X.to(device)\n",
    "            y = y.to(device)\n",
    "            pred = model(X)\n",
    "\n",
    "            predicted_classes = pred.argmax(dim=1)\n",
    "\n",
    "            Ys = np.concatenate([Ys, y.cpu().numpy()])\n",
    "            Ps = np.concatenate([Ps, predicted_classes.cpu().numpy()])\n",
    "\n",
    "    # Calculate the confusion matrix\n",
    "    cm = confusion_matrix(Ys, Ps)\n",
    "    # Calculate recall for each class which is true_positive / (true_positive + false_negative)\n",
    "    recall_per_class = cm.diagonal() / cm.sum(axis=1)\n",
    "    # Calculate the balanced accuracy which is the average recall per class\n",
    "    balanced_accuracy = np.mean(recall_per_class)\n",
    "    \n",
    "    return balanced_accuracy\n",
    "\n",
    "def get_model_accuracy(model, dataloader):\n",
    "    Ys = np.array([] , dtype = 'int64' )  # Assuming labels are integer class indices\n",
    "    Ps = np.array([], dtype = 'int64' )\n",
    "\n",
    "    with torch.no_grad():\n",
    "        for X, y in dataloader:\n",
    "            X = X.to(device)\n",
    "            y = y.to(device)\n",
    "            pred = model(X)\n",
    "\n",
    "            # Get the predicted class indices\n",
    "            predicted_classes = pred.argmax(dim=1)\n",
    "\n",
    "            Ys = np.concatenate([Ys, y.cpu().numpy()])\n",
    "            Ps = np.concatenate([Ps, predicted_classes.cpu().numpy()])\n",
    "\n",
    "    return np.mean(Ys == Ps)\n",
    "\n",
    "def get_model_f1_score_macro(model, dataloader):\n",
    "    Ys = np.array([] , dtype = 'int64')\n",
    "    Ps = np.array([], dtype = 'int64')\n",
    "\n",
    "    with torch.no_grad():\n",
    "        for X, y in dataloader:\n",
    "            X = X.to(device)\n",
    "            y = y.to(device)\n",
    "            pred = model(X)\n",
    "\n",
    "            # Get the predicted class indices\n",
    "            predicted_classes = pred.argmax(dim=1)\n",
    "\n",
    "            Ys = np.concatenate([Ys, y.cpu().numpy()])\n",
    "            Ps = np.concatenate([Ps, predicted_classes.cpu().numpy()])\n",
    "\n",
    "    # Calculate the confusion matrix\n",
    "    cm = confusion_matrix(Ys, Ps)\n",
    "    # Calculate precision and recall for each class\n",
    "    precision_per_class = cm.diagonal() / cm.sum(axis=0)\n",
    "    recall_per_class = cm.diagonal() / cm.sum(axis=1)\n",
    "    \n",
    "    # Handle potential division by zero\n",
    "    precision_per_class = np.nan_to_num(precision_per_class)\n",
    "    recall_per_class = np.nan_to_num(recall_per_class)\n",
    "\n",
    "    # Calculate F1 score for each class\n",
    "    f1_per_class = 2 * (precision_per_class * recall_per_class) / (precision_per_class + recall_per_class)\n",
    "    \n",
    "    # Handle potential division by zero\n",
    "    f1_per_class = np.nan_to_num(f1_per_class)\n",
    "    \n",
    "    # Calculate the macro-averaged F1 score\n",
    "    macro_f1_score = np.mean(f1_per_class)\n",
    "    \n",
    "    return macro_f1_score"
   ]
  },
  {
   "cell_type": "code",
   "execution_count": 40,
   "id": "a58d478d",
   "metadata": {},
   "outputs": [],
   "source": [
    "model = CNN(input_height=400, input_width=20, in_channels=1).to(device)\n",
    "\n",
    "loss = nn.CrossEntropyLoss()\n",
    "\n",
    "optimizer = torch.optim.Adam(model.parameters(), lr = 10**-4 ) \n",
    "\n",
    "## container to keep the scores across all epochs\n",
    "train_scores = []\n",
    "valid_scores = []\n",
    "\n",
    "early_stopping = EarlyStopping(patience=25, verbose=False)"
   ]
  },
  {
   "cell_type": "code",
   "execution_count": 41,
   "id": "51b95172",
   "metadata": {},
   "outputs": [
    {
     "name": "stdout",
     "output_type": "stream",
     "text": [
      "train accuracy: 0.10152703260420966\n",
      "valid accuracy: 0.02047244094488189\n"
     ]
    }
   ],
   "source": [
    "## naive performance\n",
    "print( \"train accuracy:\", get_model_accuracy(model, train_loader) )\n",
    "print( \"valid accuracy:\", get_model_accuracy(model, val_loader) )"
   ]
  },
  {
   "cell_type": "code",
   "execution_count": 60,
   "id": "24d8490a",
   "metadata": {
    "scrolled": true
   },
   "outputs": [
    {
     "name": "stdout",
     "output_type": "stream",
     "text": [
      "Epoch 186\n",
      "Train loss: 0.368036  [   64/ 2423]\n",
      "Train loss: 0.446544  [  128/ 2423]\n",
      "Train loss: 0.449238  [  192/ 2423]\n",
      "Train loss: 0.408482  [  256/ 2423]\n",
      "Train loss: 0.360249  [  320/ 2423]\n",
      "Train loss: 0.276742  [  384/ 2423]\n",
      "Train loss: 0.502864  [  448/ 2423]\n",
      "Train loss: 0.300409  [  512/ 2423]\n",
      "Train loss: 0.441352  [  576/ 2423]\n",
      "Train loss: 0.382987  [  640/ 2423]\n",
      "Train loss: 0.283904  [  704/ 2423]\n",
      "Train loss: 0.625424  [  768/ 2423]\n",
      "Train loss: 0.380931  [  832/ 2423]\n",
      "Train loss: 0.276378  [  896/ 2423]\n",
      "Train loss: 0.367083  [  960/ 2423]\n",
      "Train loss: 0.507815  [ 1024/ 2423]\n",
      "Train loss: 0.392148  [ 1088/ 2423]\n",
      "Train loss: 0.537193  [ 1152/ 2423]\n",
      "Train loss: 0.583678  [ 1216/ 2423]\n",
      "Train loss: 0.178443  [ 1280/ 2423]\n",
      "Train loss: 0.333474  [ 1344/ 2423]\n",
      "Train loss: 0.601556  [ 1408/ 2423]\n",
      "Train loss: 0.554665  [ 1472/ 2423]\n",
      "Train loss: 0.338746  [ 1536/ 2423]\n",
      "Train loss: 0.503880  [ 1600/ 2423]\n",
      "Train loss: 0.551457  [ 1664/ 2423]\n",
      "Train loss: 0.352525  [ 1728/ 2423]\n",
      "Train loss: 0.390542  [ 1792/ 2423]\n",
      "Train loss: 0.438912  [ 1856/ 2423]\n",
      "Train loss: 0.435078  [ 1920/ 2423]\n",
      "Train loss: 0.251202  [ 1984/ 2423]\n",
      "Train loss: 0.318898  [ 2048/ 2423]\n",
      "Train loss: 0.449204  [ 2112/ 2423]\n",
      "Train loss: 0.558783  [ 2176/ 2423]\n",
      "Train loss: 0.233974  [ 2240/ 2423]\n",
      "Train loss: 0.462955  [ 2304/ 2423]\n",
      "Train loss: 0.401025  [ 2368/ 2423]\n",
      "Train loss: 0.563820  [ 2423/ 2423]\n",
      "Train loss: 0.563820\n",
      "Valid Error: 1.152754\n",
      "EarlyStopping counter: 27 out of 25\n",
      "Early stopping\n",
      "CPU times: total: 5.75 s\n",
      "Wall time: 2.84 s\n"
     ]
    },
    {
     "data": {
      "text/plain": [
       "<All keys matched successfully>"
      ]
     },
     "execution_count": 60,
     "metadata": {},
     "output_type": "execute_result"
    }
   ],
   "source": [
    "%%time\n",
    "\n",
    "epoch = 10\n",
    "\n",
    "for t in range(epoch):\n",
    "    echo = t%1==0\n",
    "    if echo:\n",
    "        print('Epoch',len(train_scores)+1 )    \n",
    "\n",
    "    train_scores.append( train(train_loader,model, loss, optimizer, echo = True , echo_batch = True ) )\n",
    "    valid_scores.append( valid(val_loader, model, loss, echo = True) )\n",
    "\n",
    "    # early_stopping needs the validation loss to check if it has decresed, \n",
    "    # and if it has, it will make a checkpoint of the current model\n",
    "    early_stopping(valid_scores[-1], model)\n",
    "\n",
    "    if early_stopping.early_stop:\n",
    "        print(\"Early stopping\")\n",
    "        break\n",
    "        \n",
    "# load the last checkpoint with the best model\n",
    "model.load_state_dict(torch.load('checkpoint.pt'))"
   ]
  },
  {
   "cell_type": "code",
   "execution_count": 61,
   "id": "07503bf9",
   "metadata": {},
   "outputs": [
    {
     "data": {
      "image/png": "[encoded data removed]",
      "text/plain": [
       "<Figure size 640x480 with 1 Axes>"
      ]
     },
     "metadata": {},
     "output_type": "display_data"
    },
    {
     "name": "stdout",
     "output_type": "stream",
     "text": [
      "train accuracy: 0.8984729673957903\n",
      "valid accuracy: 0.7070866141732284\n",
      "\n",
      "train balanced accuracy: 0.9039448976208918\n",
      "valid balanced accuracy: 0.663303933953779\n",
      "\n",
      "train F1 score: 0.9066655395239046\n",
      "valid F1 score: 0.6469740195268386\n"
     ]
    }
   ],
   "source": [
    "plt.plot(train_scores , label = 'train')\n",
    "plt.plot(valid_scores, label = 'validation')\n",
    "plt.axvline(np.argmin(valid_scores), linestyle='--', color='r',label='Early Stopping Checkpoint')\n",
    "plt.legend()\n",
    "plt.xlabel('epoch')\n",
    "plt.ylabel('BCE loss')\n",
    "plt.show()\n",
    "\n",
    "print( \"train accuracy:\", get_model_accuracy(model, train_loader) )\n",
    "print( \"valid accuracy:\", get_model_accuracy(model, val_loader) )\n",
    "\n",
    "print( \"\\ntrain balanced accuracy:\", get_model_balanced_accuracy(model, train_loader) )\n",
    "print( \"valid balanced accuracy:\", get_model_balanced_accuracy(model, val_loader) )\n",
    "\n",
    "print( \"\\ntrain F1 score:\", get_model_f1_score_macro(model, train_loader) )\n",
    "print( \"valid F1 score:\", get_model_f1_score_macro(model, val_loader) )"
   ]
  }
 ],
 "metadata": {
  "kernelspec": {
   "display_name": "Python 3 (ipykernel)",
   "language": "python",
   "name": "python3"
  },
  "language_info": {
   "codemirror_mode": {
    "name": "ipython",
    "version": 3
   },
   "file_extension": ".py",
   "mimetype": "text/x-python",
   "name": "python",
   "nbconvert_exporter": "python",
   "pygments_lexer": "ipython3",
   "version": "3.10.13"
  }
 },
 "nbformat": 4,
 "nbformat_minor": 5
}
